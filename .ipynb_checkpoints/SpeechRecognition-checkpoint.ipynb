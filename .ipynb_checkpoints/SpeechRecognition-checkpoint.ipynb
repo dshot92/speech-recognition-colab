{
 "cells": [
  {
   "cell_type": "code",
   "execution_count": 1,
   "metadata": {},
   "outputs": [],
   "source": [
    "#!/usr/bin/env python3\n",
    "\n",
    "# Documentation\n",
    "# https://github.com/jiaaro/pydub/blob/master/API.markdown\n",
    "\n",
    "import sys\n",
    "import speech_recognition as sr\n",
    "from notebook.services.config import ConfigManager\n",
    "cm = ConfigManager().update('notebook', {'limit_output': 1000})\n",
    "\n",
    "# obtain path to \"english.wav\" in the same folder as this script\n",
    "import os.path\n",
    "from pydub import AudioSegment\n",
    "\n",
    "import time # for delay\n",
    "import random\n",
    "\n",
    "# files                                                                         \n",
    "#src = \"5min.mp3\"\n",
    "#dst = \"5min.wav\"\n",
    "\n",
    "# convert wav to mp3                                                            \n",
    "#totrasn = AudioSegment.from_mp3(src)\n",
    "#totrasn.export(dst, format=\"wav\")"
   ]
  },
  {
   "cell_type": "code",
   "execution_count": null,
   "metadata": {},
   "outputs": [],
   "source": [
    "# Cutting audio into 5 minutes slices\n",
    "# if file duration is not multiple of 5 it simply will reduce the last file size automatically\n",
    "\n",
    "# How many files are there to slice??\n",
    "dir = \"../20_minutes_slice\"\n",
    "onlyfiles = next(os.walk(dir))[2] #dir is your directory path as string\n",
    "print ('Found ' + str(len([name for name in os.listdir(dir)])) + ' files to slice' )\n",
    "\n",
    "offset = 300000 # 300000 == 5 minutes -- calculate in milliseconds\n",
    "t1 = 0 \n",
    "t2 = offset\n",
    "\n",
    "for i in range(len(onlyfiles)):\n",
    "    t1 = 0 \n",
    "    t2 = offset\n",
    "    newAudio = AudioSegment.from_wav( dir + '/ISW_a_' + str(i) + '.wav')\n",
    "    print(\"file: \"+ str(i) + \" - Duration: \" + str(len(newAudio)))\n",
    "    \n",
    "    for j in range(4):\n",
    "        t1 = j * offset #Works in milliseconds\n",
    "        t2 = t1 + offset\n",
    "        \n",
    "        print(t1,t2, i*4+j)\n",
    "        newAudio = AudioSegment.from_wav( dir + '/ISW_a_' + str(i) + '.wav')\n",
    "        newAudio = newAudio[t1:t2]\n",
    "        newAudio.export( dir + '/test/ISW_a_'+ str(i*4+j ) + '.wav', format=\"wav\") #Exports to a wav file in the current path.        "
   ]
  },
  {
   "cell_type": "code",
   "execution_count": null,
   "metadata": {
    "scrolled": true
   },
   "outputs": [
    {
     "name": "stdout",
     "output_type": "stream",
     "text": [
      "Found 21 files to transcribe\n",
      "15 seconds delay\n",
      "Processing File: 2\n"
     ]
    }
   ],
   "source": [
    "# Transcribe from google APIs\n",
    "\n",
    "dir = \"../20_minutes_slice/test\"\n",
    "onlyfiles = next(os.walk(dir))[2] #dir is your directory path as string\n",
    "print ('Found ' + str(len([name for name in os.listdir(dir)])) + ' files to transcribe' )\n",
    "\n",
    "r = sr.Recognizer()\n",
    "\n",
    "result = [] # Output visualization\n",
    "\n",
    "for i in range(len(onlyfiles)):\n",
    "    \n",
    "    if i == 2:  # Pin point single files\n",
    "    \n",
    "        delay = 5 + random.randint(5,10) \n",
    "        print(str(delay) + \" seconds delay\")\n",
    "        time.sleep(delay) # seconds\n",
    "\n",
    "        print('Processing File: ' + str(i))\n",
    "        file_wav = dir + '/ISW_a_'+ str(i) + '.wav'\n",
    "\n",
    "        # use the audio file as the audio source\n",
    "        with sr.AudioFile(file_wav) as source:\n",
    "            audio = r.record(source)  # read the entire audio file\n",
    "\n",
    "        # recognize speech using Google Speech Recognition\n",
    "        try:\n",
    "            # for testing purposes, we're just using the default API key\n",
    "            # to use another API key, use `r.recognize_google(audio, key=\"GOOGLE_SPEECH_RECOGNITION_API_KEY\")`\n",
    "            # instead of `r.recognize_google(audio)`\n",
    "\n",
    "            file = open(dir + '/Text/ISW_a_'+ str(i) + '.txt',\"w+\")\n",
    "            file.write(str(r.recognize_google(audio, language=\"it-IT\") )) #ITALIAN\n",
    "            file.close()\n",
    "\n",
    "            result.append([i, True])\n",
    "\n",
    "            #print( r.recognize_google(audio, show_all=True) ) #ENGLISH-US \n",
    "\n",
    "        except sr.UnknownValueError:\n",
    "            result.append([i, False])\n",
    "            print('File_'+ str(i) + ' - Google Speech Recognition could not understand audio')\n",
    "        except sr.RequestError as e:\n",
    "            print(\"Could not request results from Google Speech Recognition service; {0}\".format(e))\n",
    "\n",
    "        \n",
    "for res in result:\n",
    "    print(res)"
   ]
  },
  {
   "cell_type": "code",
   "execution_count": null,
   "metadata": {},
   "outputs": [],
   "source": [
    "# use the audio file as the audio source\n",
    "r = sr.Recognizer()\n",
    "with sr.AudioFile(dst) as source:\n",
    "    audio = r.record(source)  # read the entire audio file\n",
    "\n",
    "# recognize speech using Sphinx\n",
    "\n",
    "try:\n",
    "    #print(\"Sphinx thinks you said \" + r.recognize_sphinx(audio, language=\"it-IT\"))  #ITALIAN\n",
    "    print(\"Sphinx thinks you said \" + r.recognize_sphinx(audio))  #ENGLISH-US\n",
    "except sr.UnknownValueError:\n",
    "    print(\"Sphinx could not understand audio\")\n",
    "except sr.RequestError as e:\n",
    "    print(\"Sphinx error; {0}\".format(e))"
   ]
  }
 ],
 "metadata": {
  "celltoolbar": "Edit Metadata",
  "kernelspec": {
   "display_name": "Python 3",
   "language": "python",
   "name": "python3"
  },
  "language_info": {
   "codemirror_mode": {
    "name": "ipython",
    "version": 3
   },
   "file_extension": ".py",
   "mimetype": "text/x-python",
   "name": "python",
   "nbconvert_exporter": "python",
   "pygments_lexer": "ipython3",
   "version": "3.8.2"
  }
 },
 "nbformat": 4,
 "nbformat_minor": 4
}
