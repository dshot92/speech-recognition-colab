{
 "metadata": {
  "language_info": {
   "codemirror_mode": {
    "name": "ipython",
    "version": 3
   },
   "file_extension": ".py",
   "mimetype": "text/x-python",
   "name": "python",
   "nbconvert_exporter": "python",
   "pygments_lexer": "ipython3",
   "version": "3.8.5-final"
  },
  "orig_nbformat": 2,
  "kernelspec": {
   "name": "Python 3.8.5 64-bit ('data_science': conda)",
   "display_name": "Python 3.8.5 64-bit ('data_science': conda)",
   "metadata": {
    "interpreter": {
     "hash": "25cb40b6f69fd4668d77d7835f5fb066f120671bb589d0b834f6cd2514f5442c"
    }
   }
  }
 },
 "nbformat": 4,
 "nbformat_minor": 2,
 "cells": [
  {
   "cell_type": "code",
   "execution_count": 3,
   "metadata": {
    "tags": []
   },
   "outputs": [
    {
     "output_type": "stream",
     "name": "stdout",
     "text": "Enter YouTube video url to Download: \n\nVideo Title:\nRoasting a TikToker in 60 Seconds (@spencergatewood1) #shorts\n\n..Downloading..\n\n # Done # \n"
    }
   ],
   "source": [
    "# https://github.com/nficano/pytube\n",
    "import os\n",
    "import pytube\n",
    "\n",
    "print(\"Enter YouTube video url to Download: \")\n",
    "url = str(input())\n",
    "\n",
    "if not os.path.exists('input'):\n",
    "    os.makedirs('input')\n",
    "    \n",
    "input_folder = os.path.join(os.getcwd(), \"input\")\n",
    "\n",
    "try:\n",
    "    ytd = pytube.YouTube(url)\n",
    "    print('\\nVideo Title:')\n",
    "    name = ytd.title\n",
    "    print(ytd.title)\n",
    "    print(\"\\n..Downloading..\")\n",
    "    ytd = pytube.YouTube(url).streams.filter(progressive=True, file_extension='mp4').order_by('resolution').desc().first().download(input_folder)\n",
    "    print('\\n # Done # ')\n",
    "\n",
    "except pytube.exceptions.RegexMatchError as e:\n",
    "    print('Error : {}'.format(e))"
   ]
  },
  {
   "cell_type": "code",
   "execution_count": 4,
   "metadata": {
    "tags": []
   },
   "outputs": [
    {
     "output_type": "stream",
     "name": "stdout",
     "text": "\nSelect file to transcribe: \n0 : Roasting a TikToker in 60 Seconds (@spencergatewood1) shorts.mp4\n0\n\nSelect language transcribing:\n0 : en-US\n1 : it-IT\n0\nPart 1 of 16 \t [ 0:00:00s : 0:00:03s ]\nPart 2 of 16 \t [ 0:00:03s : 0:00:06s ]\nPart 3 of 16 \t [ 0:00:06s : 0:00:09s ]\nPart 4 of 16 \t [ 0:00:09s : 0:00:12s ]\nPart 5 of 16 \t [ 0:00:12s : 0:00:15s ]\nPart 6 of 16 \t [ 0:00:15s : 0:00:18s ]\nPart 7 of 16 \t [ 0:00:18s : 0:00:21s ]\nPart 8 of 16 \t [ 0:00:21s : 0:00:24s ]\nPart 9 of 16 \t [ 0:00:24s : 0:00:27s ]\nPart 10 of 16 \t [ 0:00:27s : 0:00:30s ]\nPart 11 of 16 \t [ 0:00:30s : 0:00:33s ]\nPart 12 of 16 \t [ 0:00:33s : 0:00:36s ]\nPart 13 of 16 \t [ 0:00:36s : 0:00:39s ]\nPart 14 of 16 \t [ 0:00:39s : 0:00:42s ]\nPart 15 of 16 \t [ 0:00:42s : 0:00:45s ]\nPart 16 of 16 \t [ 0:00:45s : 0:00:48s ]\nDone\n"
    }
   ],
   "source": [
    "#!/usr/bin/env python3\n",
    "import os\n",
    "import sys\n",
    "import time # for delay\n",
    "import datetime\n",
    "import speech_recognition as sr\n",
    "from os import listdir\n",
    "import pydub\n",
    "from pydub import AudioSegment\n",
    "\n",
    "# get list of file in input folder\n",
    "path_input = os.getcwd() + os.sep +  'input'\n",
    "\n",
    "if not os.path.exists('output'):\n",
    "    os.makedirs('output')\n",
    "\n",
    "path_output = os.getcwd() + os.sep +  'output'\n",
    "\n",
    "# pydub.AudioSegment.ffmpeg = \"C:/ffmpeg\"\n",
    "\n",
    "list = os.listdir(path_input)\n",
    "if len(list) < 1 :\n",
    "    print('No files to transcribe!')\n",
    "    sys.exit()\n",
    "\n",
    "# list of file in input folder\n",
    "print('\\nSelect file to transcribe: ')\n",
    "for i in range(len(list)):\n",
    "    print(str(i) + ' : ' + list[i])\n",
    "\n",
    "#get input from userò\n",
    "file_name = int(input())\n",
    "print(file_name)\n",
    "file_name = list[file_name]\n",
    "\n",
    "# get audiofile into usable form\n",
    "audio = AudioSegment.from_file(os.path.join(path_input, str(file_name)))\n",
    "offset = 3000 # 15000 == 15 seconds -- calculate in millisecond\n",
    "\n",
    "# initialize recognizer\n",
    "r = sr.Recognizer()\n",
    "\n",
    "# Languages List\n",
    "# http://www.lingoes.net/en/translator/langcode.htm\n",
    "\n",
    "languages = ['en-US', 'it-IT']\n",
    "print('\\nSelect language transcribing:')\n",
    "for j in range(len(languages)):\n",
    "    print('{} : {}'.format(j, languages[j]))\n",
    "language = int(input())\n",
    "print(language)\n",
    "language = languages[language]\n",
    "\n",
    "parts = 1 + (len(audio) // offset)\n",
    "for j in range(parts):\n",
    "    # get intervals of 15 from audio data\n",
    "    t1 = j * offset\n",
    "    t2 = t1 + offset\n",
    "    audio_segment = audio[t1:t2 + 1000]\n",
    "\n",
    "    audio_segment.export(os.path.join(path_input, 'temporary.wav') , format=\"wav\")\n",
    "\n",
    "    start = str(datetime.timedelta(seconds=t1 / 1000))\n",
    "    end = str(datetime.timedelta(seconds=t2 / 1000))\n",
    "    print('Part {} of {} \\t [ {}s : {}s ]'.format(j+1,parts, start,end ))\n",
    "    try:\n",
    "        with sr.AudioFile( os.path.join(path_input, 'temporary.wav')) as source:\n",
    "            aux = r.record(source)  # read the entire audio file\n",
    "\n",
    "        # call to google APIs\n",
    "        data = r.recognize_google(aux, language=language, show_all=False) # English\n",
    "\n",
    "        file_object = open(os.path.join(path_output, file_name) + '_google.srt' , 'a')\n",
    "        #file_object.write('\\n[ ' + str(datetime.timedelta(seconds=t1 / 1000)) + 's : ' + str(datetime.timedelta(seconds=t2 / 1000)) + 's ]\\n')\n",
    "        if str(data)[-1] == ' ':\n",
    "            file_object.write('\\n\\n' + str(j) + '\\n' + '{} --> {}'.format(start, end) + '\\n' + str(data))\n",
    "        else:\n",
    "            file_object.write('\\n\\n' + str(j) + '\\n' + '{} --> {}'.format(start, end) + '\\n' + str(data) + ' ')\n",
    "        file_object.close()\n",
    "\n",
    "    except sr.UnknownValueError:\n",
    "        print(\"Google Speech Recognition could not understand audio\")\n",
    "    except sr.RequestError as e:\n",
    "        print(\"Could not request results from Google Speech Recognition service; {0}\".format(e))\n",
    "    #delete aux files of 15 seconds\n",
    "    os.remove(os.path.join(path_input, 'temporary.wav'))\n",
    "# Last step\n",
    "print('Done')\n"
   ]
  }
 ]
}