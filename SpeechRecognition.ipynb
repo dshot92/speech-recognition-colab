{
 "cells": [
  {
   "cell_type": "code",
   "execution_count": 6,
   "metadata": {},
   "outputs": [],
   "source": [
    "#!/usr/bin/env python3\n",
    "\n",
    "import sys\n",
    "import speech_recognition as sr\n",
    "from notebook.services.config import ConfigManager\n",
    "cm = ConfigManager().update('notebook', {'limit_output': 1000})\n",
    "\n",
    "# obtain path to \"english.wav\" in the same folder as this script\n",
    "from os import path\n",
    "from pydub import AudioSegment\n",
    "\n",
    "# files                                                                         \n",
    "src = \"5min.mp3\"\n",
    "dst = \"5min.wav\"\n",
    "\n",
    "# convert wav to mp3                                                            \n",
    "totrasn = AudioSegment.from_mp3(src)\n",
    "totrasn.export(dst, format=\"wav\")\n",
    "\n",
    "# use the audio file as the audio source\n",
    "r = sr.Recognizer()\n",
    "with sr.AudioFile(dst) as source:\n",
    "    audio = r.record(source)  # read the entire audio file"
   ]
  },
  {
   "cell_type": "code",
   "execution_count": 7,
   "metadata": {},
   "outputs": [
    {
     "name": "stdout",
     "output_type": "stream",
     "text": [
      "Google Speech Recognition could not understand audio\n"
     ]
    }
   ],
   "source": [
    "# recognize speech using Google Speech Recognition\n",
    "try:\n",
    "    # for testing purposes, we're just using the default API key\n",
    "    # to use another API key, use `r.recognize_google(audio, key=\"GOOGLE_SPEECH_RECOGNITION_API_KEY\")`\n",
    "    # instead of `r.recognize_google(audio)`\n",
    "   \n",
    "    print( r.recognize_google(audio, language=\"it-IT\") ) #ITALIAN\n",
    "    #print( r.recognize_google(audio, show_all=True) ) #ENGLISH-US \n",
    "\n",
    "except sr.UnknownValueError:\n",
    "    print(\"Google Speech Recognition could not understand audio\")\n",
    "except sr.RequestError as e:\n",
    "    print(\"Could not request results from Google Speech Recognition service; {0}\".format(e))\n"
   ]
  },
  {
   "cell_type": "code",
   "execution_count": null,
   "metadata": {},
   "outputs": [],
   "source": [
    "# recognize speech using Sphinx\n",
    "\n",
    "try:\n",
    "    #print(\"Sphinx thinks you said \" + r.recognize_sphinx(audio, language=\"it-IT\"))  #ITALIAN\n",
    "    print(\"Sphinx thinks you said \" + r.recognize_sphinx(audio))  #ENGLISH-US\n",
    "except sr.UnknownValueError:\n",
    "    print(\"Sphinx could not understand audio\")\n",
    "except sr.RequestError as e:\n",
    "    print(\"Sphinx error; {0}\".format(e))"
   ]
  }
 ],
 "metadata": {
  "celltoolbar": "Edit Metadata",
  "kernelspec": {
   "display_name": "Python 3",
   "language": "python",
   "name": "python3"
  },
  "language_info": {
   "codemirror_mode": {
    "name": "ipython",
    "version": 3
   },
   "file_extension": ".py",
   "mimetype": "text/x-python",
   "name": "python",
   "nbconvert_exporter": "python",
   "pygments_lexer": "ipython3",
   "version": "3.8.2"
  }
 },
 "nbformat": 4,
 "nbformat_minor": 4
}
